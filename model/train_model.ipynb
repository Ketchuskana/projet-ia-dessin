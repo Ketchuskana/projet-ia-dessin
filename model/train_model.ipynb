{
 "cells": [
  {
   "cell_type": "code",
   "execution_count": 8,
   "id": "96e994bb",
   "metadata": {},
   "outputs": [
    {
     "name": "stdout",
     "output_type": "stream",
     "text": [
      "Epoch 1 — Loss: 1.2364 — Test accuracy: 0.8629\n",
      "Epoch 2 — Loss: 0.4910 — Test accuracy: 0.8925\n",
      "Epoch 3 — Loss: 0.3921 — Test accuracy: 0.9034\n",
      "Epoch 4 — Loss: 0.3523 — Test accuracy: 0.9105\n",
      "Epoch 5 — Loss: 0.3287 — Test accuracy: 0.9152\n",
      "Modèle exporté en mnist_model.onnx\n"
     ]
    }
   ],
   "source": [
    "import torch\n",
    "from torch import nn\n",
    "from torch.utils.data import DataLoader\n",
    "from torchvision import datasets\n",
    "from torchvision.transforms import ToTensor\n",
    "import torch.onnx\n",
    "\n",
    "# 1. Charger MNIST\n",
    "train_data = datasets.MNIST(root=\"data\", train=True, download=True, transform=ToTensor())\n",
    "test_data = datasets.MNIST(root=\"data\", train=False, download=True, transform=ToTensor())\n",
    "\n",
    "train_loader = DataLoader(train_data, batch_size=64, shuffle=True)\n",
    "test_loader = DataLoader(test_data, batch_size=64, shuffle=False)\n",
    "\n",
    "# 2. Modèle simple\n",
    "class SimpleNN(nn.Module):\n",
    "    def __init__(self):\n",
    "        super().__init__()\n",
    "        self.flatten = nn.Flatten()\n",
    "        self.linear_relu_stack = nn.Sequential(\n",
    "            nn.Linear(28*28, 128),\n",
    "            nn.ReLU(),\n",
    "            nn.Linear(128, 10)\n",
    "        )\n",
    "    def forward(self, x):\n",
    "        x = self.flatten(x)\n",
    "        logits = self.linear_relu_stack(x)\n",
    "        return logits\n",
    "\n",
    "model = SimpleNN()\n",
    "\n",
    "# 3. Entraînement\n",
    "loss_fn = nn.CrossEntropyLoss()\n",
    "optimizer = torch.optim.SGD(model.parameters(), lr=1e-2)\n",
    "\n",
    "def train_epoch(dataloader, model, loss_fn, optimizer):\n",
    "    model.train()\n",
    "    total_loss = 0\n",
    "    for X, y in dataloader:\n",
    "        pred = model(X)\n",
    "        loss = loss_fn(pred, y)\n",
    "        optimizer.zero_grad()\n",
    "        loss.backward()\n",
    "        optimizer.step()\n",
    "        total_loss += loss.item()\n",
    "    return total_loss / len(dataloader)\n",
    "\n",
    "# 4. Évaluer\n",
    "def test(dataloader, model):\n",
    "    model.eval()\n",
    "    correct = 0\n",
    "    total = 0\n",
    "    with torch.no_grad():\n",
    "        for X, y in dataloader:\n",
    "            pred = model(X)\n",
    "            predicted_labels = pred.argmax(dim=1)\n",
    "            correct += (predicted_labels == y).sum().item()\n",
    "            total += y.size(0)\n",
    "    return correct / total\n",
    "\n",
    "# 5. Entraîner plusieurs epochs\n",
    "for epoch in range(5):\n",
    "    loss = train_epoch(train_loader, model, loss_fn, optimizer)\n",
    "    acc = test(test_loader, model)\n",
    "    print(f\"Epoch {epoch+1} — Loss: {loss:.4f} — Test accuracy: {acc:.4f}\")\n",
    "\n",
    "# 6. Exporter en ONNX\n",
    "model.eval()\n",
    "dummy_input = torch.randn(1, 1, 28, 28)\n",
    "torch.onnx.export(\n",
    "    model, dummy_input,\n",
    "    \"mnist_model.onnx\",\n",
    "    input_names=[\"input\"],\n",
    "    output_names=[\"output\"],\n",
    "    opset_version=11\n",
    ")\n",
    "print(\"Modèle exporté en mnist_model.onnx\")\n"
   ]
  },
  {
   "cell_type": "code",
   "execution_count": 7,
   "id": "fab4af5f",
   "metadata": {},
   "outputs": [
    {
     "name": "stdout",
     "output_type": "stream",
     "text": [
      "Label réel: 7\n",
      "<img id=\"mnist-img\" src=\"data:image/png;base64,iVBORw0KGgoAAAANSUhEUgAAABwAAAAcCAAAAABXZoBIAAAAwElEQVR4nGNgGDaAEUKFpD77sfTFHeyS9xQYGBg+X4UKPuk6A6ZZINxU/Wtahg4Wj2UZGP68lmR4dAZZJxgIGp4xZWD4ceu6UM40Bhwg+O9FIVxyYi//B0OZTBiS2aLvb+LSaP3znx0uOYbWf7tZcclxnv1hhVNj3b9tOOW8f3+wxCUnfPffMlxyzKf/3VbGJan2758vLjn5B/+KkcMaBbT++2eCS872E7okUtja8DDc/YIiCY1sCLjo/A6XsZgAAGkRPJA1cOMmAAAAAElFTkSuQmCC\" alt=\"MNIST test image\"/>\n"
     ]
    }
   ],
   "source": [
    "import base64\n",
    "import io\n",
    "from torchvision import datasets\n",
    "from torchvision.transforms import ToTensor, ToPILImage\n",
    "\n",
    "# Charger dataset test MNIST\n",
    "test_data = datasets.MNIST(root=\"data\", train=False, download=True, transform=ToTensor())\n",
    "\n",
    "# Récupérer une image et label\n",
    "img_tensor, label = test_data[0]  # image 0\n",
    "print(\"Label réel:\", label)\n",
    "\n",
    "# Convertir en image PIL\n",
    "img_pil = ToPILImage()(img_tensor)\n",
    "\n",
    "# Sauvegarder en PNG dans un buffer\n",
    "buffer = io.BytesIO()\n",
    "img_pil.save(buffer, format=\"PNG\")\n",
    "img_base64 = base64.b64encode(buffer.getvalue()).decode('utf-8')\n",
    "\n",
    "# Générer code HTML img base64 à copier\n",
    "print(f'<img id=\"mnist-img\" src=\"data:image/png;base64,{img_base64}\" alt=\"MNIST test image\"/>')\n"
   ]
  }
 ],
 "metadata": {
  "kernelspec": {
   "display_name": "monenv",
   "language": "python",
   "name": "python3"
  },
  "language_info": {
   "codemirror_mode": {
    "name": "ipython",
    "version": 3
   },
   "file_extension": ".py",
   "mimetype": "text/x-python",
   "name": "python",
   "nbconvert_exporter": "python",
   "pygments_lexer": "ipython3",
   "version": "3.11.13"
  }
 },
 "nbformat": 4,
 "nbformat_minor": 5
}
