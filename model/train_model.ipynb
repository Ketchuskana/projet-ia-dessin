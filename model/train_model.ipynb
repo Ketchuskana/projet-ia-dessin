{
 "cells": [
  {
   "cell_type": "code",
   "execution_count": 6,
   "id": "96e994bb",
   "metadata": {},
   "outputs": [
    {
     "name": "stdout",
     "output_type": "stream",
     "text": [
      "Loss: 2.3159\n",
      "Loss: 2.1214\n",
      "Loss: 1.8669\n",
      "Loss: 1.4860\n",
      "Loss: 1.1755\n",
      "Loss: 0.9900\n",
      "Loss: 0.7872\n",
      "Loss: 0.7310\n",
      "Loss: 0.5367\n",
      "Loss: 0.4734\n",
      "Modèle exporté en mnist_model.onnx\n"
     ]
    }
   ],
   "source": [
    "import torch\n",
    "from torch import nn\n",
    "from torch.utils.data import DataLoader\n",
    "from torchvision import datasets\n",
    "from torchvision.transforms import ToTensor\n",
    "import torch.onnx\n",
    "\n",
    "# Dataset\n",
    "training_data = datasets.MNIST(root=\"data\", train=True, download=True, transform=ToTensor())\n",
    "test_data = datasets.MNIST(root=\"data\", train=False, download=True, transform=ToTensor())\n",
    "\n",
    "train_dataloader = DataLoader(training_data, batch_size=64, shuffle=True)\n",
    "test_dataloader = DataLoader(test_data, batch_size=64, shuffle=False)\n",
    "\n",
    "# Modèle simple\n",
    "class SimpleNN(nn.Module):\n",
    "    def __init__(self):\n",
    "        super().__init__()\n",
    "        self.flatten = nn.Flatten()\n",
    "        self.linear_relu_stack = nn.Sequential(\n",
    "            nn.Linear(28*28, 128),\n",
    "            nn.ReLU(),\n",
    "            nn.Linear(128, 10)\n",
    "        )\n",
    "\n",
    "    def forward(self, x):\n",
    "        x = self.flatten(x)\n",
    "        logits = self.linear_relu_stack(x)\n",
    "        return logits\n",
    "\n",
    "model = SimpleNN()\n",
    "\n",
    "# Entraînement rapide (1 epoch)\n",
    "loss_fn = nn.CrossEntropyLoss()\n",
    "optimizer = torch.optim.SGD(model.parameters(), lr=1e-2)\n",
    "\n",
    "def train(dataloader, model, loss_fn, optimizer):\n",
    "    model.train()\n",
    "    for batch, (X, y) in enumerate(dataloader):\n",
    "        pred = model(X)\n",
    "        loss = loss_fn(pred, y)\n",
    "        optimizer.zero_grad()\n",
    "        loss.backward()\n",
    "        optimizer.step()\n",
    "        if batch % 100 == 0:\n",
    "            print(f\"Loss: {loss.item():.4f}\")\n",
    "\n",
    "train(train_dataloader, model, loss_fn, optimizer)\n",
    "\n",
    "# Export ONNX\n",
    "dummy_input = torch.randn(1, 1, 28, 28)\n",
    "torch.onnx.export(\n",
    "    model, dummy_input,\n",
    "    \"mnist_model.onnx\",\n",
    "    input_names=[\"input\"],\n",
    "    output_names=[\"output\"],\n",
    "    opset_version=11\n",
    ")\n",
    "print(\"Modèle exporté en mnist_model.onnx\")\n"
   ]
  },
  {
   "cell_type": "code",
   "execution_count": 7,
   "id": "fab4af5f",
   "metadata": {},
   "outputs": [
    {
     "name": "stdout",
     "output_type": "stream",
     "text": [
      "Label réel: 7\n",
      "<img id=\"mnist-img\" src=\"data:image/png;base64,iVBORw0KGgoAAAANSUhEUgAAABwAAAAcCAAAAABXZoBIAAAAwElEQVR4nGNgGDaAEUKFpD77sfTFHeyS9xQYGBg+X4UKPuk6A6ZZINxU/Wtahg4Wj2UZGP68lmR4dAZZJxgIGp4xZWD4ceu6UM40Bhwg+O9FIVxyYi//B0OZTBiS2aLvb+LSaP3znx0uOYbWf7tZcclxnv1hhVNj3b9tOOW8f3+wxCUnfPffMlxyzKf/3VbGJan2758vLjn5B/+KkcMaBbT++2eCS872E7okUtja8DDc/YIiCY1sCLjo/A6XsZgAAGkRPJA1cOMmAAAAAElFTkSuQmCC\" alt=\"MNIST test image\"/>\n"
     ]
    }
   ],
   "source": [
    "import base64\n",
    "import io\n",
    "from torchvision import datasets\n",
    "from torchvision.transforms import ToTensor, ToPILImage\n",
    "\n",
    "# Charger dataset test MNIST\n",
    "test_data = datasets.MNIST(root=\"data\", train=False, download=True, transform=ToTensor())\n",
    "\n",
    "# Récupérer une image et label\n",
    "img_tensor, label = test_data[0]  # image 0\n",
    "print(\"Label réel:\", label)\n",
    "\n",
    "# Convertir en image PIL\n",
    "img_pil = ToPILImage()(img_tensor)\n",
    "\n",
    "# Sauvegarder en PNG dans un buffer\n",
    "buffer = io.BytesIO()\n",
    "img_pil.save(buffer, format=\"PNG\")\n",
    "img_base64 = base64.b64encode(buffer.getvalue()).decode('utf-8')\n",
    "\n",
    "# Générer code HTML img base64 à copier\n",
    "print(f'<img id=\"mnist-img\" src=\"data:image/png;base64,{img_base64}\" alt=\"MNIST test image\"/>')\n"
   ]
  }
 ],
 "metadata": {
  "kernelspec": {
   "display_name": "monenv",
   "language": "python",
   "name": "python3"
  },
  "language_info": {
   "codemirror_mode": {
    "name": "ipython",
    "version": 3
   },
   "file_extension": ".py",
   "mimetype": "text/x-python",
   "name": "python",
   "nbconvert_exporter": "python",
   "pygments_lexer": "ipython3",
   "version": "3.11.13"
  }
 },
 "nbformat": 4,
 "nbformat_minor": 5
}
